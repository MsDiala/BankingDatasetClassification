{
  "nbformat": 4,
  "nbformat_minor": 0,
  "metadata": {
    "colab": {
      "private_outputs": true,
      "provenance": []
    },
    "kernelspec": {
      "name": "python3",
      "display_name": "Python 3"
    },
    "language_info": {
      "name": "python"
    }
  },
  "cells": [
    {
      "cell_type": "code",
      "execution_count": null,
      "metadata": {
        "id": "6mX8pcbHVV4B"
      },
      "outputs": [],
      "source": [
        "import numpy as np\n",
        "import pandas as pd\n",
        "import seaborn as sns\n",
        "import matplotlib.pyplot as plt\n",
        "import missingno as mno"
      ]
    },
    {
      "cell_type": "code",
      "source": [
        "Train_Data = pd.read_csv(\"/content/drive/MyDrive/Banking Dataset Analysis and Classification/banking-dataset-analysis-and-classification/Train-Set.csv\")\n",
        "Test_Data = pd.read_csv(\"/content/drive/MyDrive/Banking Dataset Analysis and Classification/banking-dataset-analysis-and-classification/Test-Set.csv\")"
      ],
      "metadata": {
        "id": "LE_eo3FfbXV1"
      },
      "execution_count": null,
      "outputs": []
    },
    {
      "cell_type": "code",
      "source": [
        "Train_Data.info()"
      ],
      "metadata": {
        "id": "vnDJ7NPAc3o5"
      },
      "execution_count": null,
      "outputs": []
    },
    {
      "cell_type": "code",
      "source": [
        "Test_Data.info()"
      ],
      "metadata": {
        "id": "ibQhZ0EWc-S_"
      },
      "execution_count": null,
      "outputs": []
    },
    {
      "cell_type": "code",
      "source": [
        "Train_Data.isnull().sum()"
      ],
      "metadata": {
        "id": "NC-ermsAdVbB"
      },
      "execution_count": null,
      "outputs": []
    },
    {
      "cell_type": "code",
      "source": [
        "Train_Data.columns"
      ],
      "metadata": {
        "id": "aCbgS9ehdhEd"
      },
      "execution_count": null,
      "outputs": []
    },
    {
      "cell_type": "code",
      "source": [
        "Test_Data.columns"
      ],
      "metadata": {
        "id": "xfJnaubxelL1"
      },
      "execution_count": null,
      "outputs": []
    },
    {
      "cell_type": "code",
      "source": [
        "Train_Data.describe()"
      ],
      "metadata": {
        "id": "GMq3blgZepbn"
      },
      "execution_count": null,
      "outputs": []
    },
    {
      "cell_type": "code",
      "source": [
        "Train_Data.info()"
      ],
      "metadata": {
        "id": "-7iqsUIuq3mT"
      },
      "execution_count": null,
      "outputs": []
    },
    {
      "cell_type": "code",
      "source": [
        "Train_Data.isnull().sum()"
      ],
      "metadata": {
        "id": "OYCtmRGqq7gX"
      },
      "execution_count": null,
      "outputs": []
    },
    {
      "cell_type": "code",
      "source": [],
      "metadata": {
        "id": "oeKmCSlBrCjF"
      },
      "execution_count": null,
      "outputs": []
    }
  ]
}