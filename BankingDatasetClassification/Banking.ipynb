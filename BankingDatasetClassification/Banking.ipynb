{
  "cells": [
    {
      "cell_type": "code",
      "execution_count": 2,
      "metadata": {
        "id": "6mX8pcbHVV4B"
      },
      "outputs": [],
      "source": [
        "import pandas as pd\n",
        "import numpy as np\n",
        "import seaborn as sns\n",
        "import matplotlib.pyplot as plt\n",
        "from sklearn.ensemble import RandomForestClassifier\n",
        "from sklearn.model_selection import train_test_split\n",
        "from sklearn.model_selection import cross_val_score\n",
        "from sklearn.preprocessing import StandardScaler\n",
        "from sklearn.model_selection import cross_val_score\n",
        "from sklearn.linear_model import LogisticRegression\n",
        "from sklearn.svm import SVC\n",
        "from sklearn.metrics import  accuracy_score, roc_auc_score, roc_curve, confusion_matrix"
      ]
    },
    {
      "cell_type": "code",
      "execution_count": 3,
      "metadata": {
        "id": "LE_eo3FfbXV1"
      },
      "outputs": [],
      "source": [
        "Train_Data = pd.read_csv(\"Data/Train-Set.csv\")\n",
        "Test_Data = pd.read_csv(\"Data/Test-Set.csv\")"
      ]
    },
    {
      "cell_type": "code",
      "execution_count": 4,
      "metadata": {},
      "outputs": [
        {
          "name": "stdout",
          "output_type": "stream",
          "text": [
            "<class 'pandas.core.frame.DataFrame'>\n",
            "RangeIndex: 54712 entries, 0 to 54711\n",
            "Data columns (total 19 columns):\n",
            " #   Column      Non-Null Count  Dtype  \n",
            "---  ------      --------------  -----  \n",
            " 0   Unnamed: 0  54712 non-null  int64  \n",
            " 1   id          54712 non-null  int64  \n",
            " 2   age         54712 non-null  int64  \n",
            " 3   job         54712 non-null  object \n",
            " 4   marital     54712 non-null  object \n",
            " 5   education   54712 non-null  object \n",
            " 6   default     54712 non-null  object \n",
            " 7   balance     31842 non-null  float64\n",
            " 8   housing     54712 non-null  object \n",
            " 9   loan        54712 non-null  object \n",
            " 10  contact     54712 non-null  object \n",
            " 11  day         54712 non-null  object \n",
            " 12  month       54712 non-null  object \n",
            " 13  duration    54712 non-null  int64  \n",
            " 14  campaign    54712 non-null  int64  \n",
            " 15  pdays       54712 non-null  int64  \n",
            " 16  previous    54712 non-null  int64  \n",
            " 17  poutcome    54712 non-null  object \n",
            " 18  Target      54712 non-null  object \n",
            "dtypes: float64(1), int64(7), object(11)\n",
            "memory usage: 7.9+ MB\n"
          ]
        }
      ],
      "source": [
        "Train_Data.info()"
      ]
    },
    {
      "cell_type": "code",
      "execution_count": 5,
      "metadata": {},
      "outputs": [
        {
          "data": {
            "text/html": [
              "<div>\n",
              "<style scoped>\n",
              "    .dataframe tbody tr th:only-of-type {\n",
              "        vertical-align: middle;\n",
              "    }\n",
              "\n",
              "    .dataframe tbody tr th {\n",
              "        vertical-align: top;\n",
              "    }\n",
              "\n",
              "    .dataframe thead th {\n",
              "        text-align: right;\n",
              "    }\n",
              "</style>\n",
              "<table border=\"1\" class=\"dataframe\">\n",
              "  <thead>\n",
              "    <tr style=\"text-align: right;\">\n",
              "      <th></th>\n",
              "      <th>count</th>\n",
              "      <th>mean</th>\n",
              "      <th>std</th>\n",
              "      <th>min</th>\n",
              "      <th>25%</th>\n",
              "      <th>50%</th>\n",
              "      <th>75%</th>\n",
              "      <th>max</th>\n",
              "    </tr>\n",
              "  </thead>\n",
              "  <tbody>\n",
              "    <tr>\n",
              "      <th>Unnamed: 0</th>\n",
              "      <td>54712.0</td>\n",
              "      <td>38925.687582</td>\n",
              "      <td>22553.956707</td>\n",
              "      <td>0.0</td>\n",
              "      <td>19414.75</td>\n",
              "      <td>38803.0</td>\n",
              "      <td>58491.25</td>\n",
              "      <td>78160.0</td>\n",
              "    </tr>\n",
              "    <tr>\n",
              "      <th>id</th>\n",
              "      <td>54712.0</td>\n",
              "      <td>45173.763397</td>\n",
              "      <td>25935.559039</td>\n",
              "      <td>0.0</td>\n",
              "      <td>22737.75</td>\n",
              "      <td>45248.0</td>\n",
              "      <td>67581.25</td>\n",
              "      <td>89999.0</td>\n",
              "    </tr>\n",
              "    <tr>\n",
              "      <th>age</th>\n",
              "      <td>54712.0</td>\n",
              "      <td>40.580147</td>\n",
              "      <td>10.544504</td>\n",
              "      <td>17.0</td>\n",
              "      <td>32.00</td>\n",
              "      <td>39.0</td>\n",
              "      <td>48.00</td>\n",
              "      <td>98.0</td>\n",
              "    </tr>\n",
              "    <tr>\n",
              "      <th>balance</th>\n",
              "      <td>31842.0</td>\n",
              "      <td>1368.024590</td>\n",
              "      <td>3057.847866</td>\n",
              "      <td>-8019.0</td>\n",
              "      <td>73.00</td>\n",
              "      <td>449.0</td>\n",
              "      <td>1435.00</td>\n",
              "      <td>98417.0</td>\n",
              "    </tr>\n",
              "    <tr>\n",
              "      <th>duration</th>\n",
              "      <td>54712.0</td>\n",
              "      <td>257.282260</td>\n",
              "      <td>255.270335</td>\n",
              "      <td>0.0</td>\n",
              "      <td>103.00</td>\n",
              "      <td>180.0</td>\n",
              "      <td>318.00</td>\n",
              "      <td>4199.0</td>\n",
              "    </tr>\n",
              "    <tr>\n",
              "      <th>campaign</th>\n",
              "      <td>54712.0</td>\n",
              "      <td>2.679961</td>\n",
              "      <td>2.966822</td>\n",
              "      <td>1.0</td>\n",
              "      <td>1.00</td>\n",
              "      <td>2.0</td>\n",
              "      <td>3.00</td>\n",
              "      <td>58.0</td>\n",
              "    </tr>\n",
              "    <tr>\n",
              "      <th>pdays</th>\n",
              "      <td>54712.0</td>\n",
              "      <td>425.022829</td>\n",
              "      <td>476.813012</td>\n",
              "      <td>-1.0</td>\n",
              "      <td>-1.00</td>\n",
              "      <td>88.0</td>\n",
              "      <td>999.00</td>\n",
              "      <td>999.0</td>\n",
              "    </tr>\n",
              "    <tr>\n",
              "      <th>previous</th>\n",
              "      <td>54712.0</td>\n",
              "      <td>0.407351</td>\n",
              "      <td>1.520253</td>\n",
              "      <td>0.0</td>\n",
              "      <td>0.00</td>\n",
              "      <td>0.0</td>\n",
              "      <td>0.00</td>\n",
              "      <td>58.0</td>\n",
              "    </tr>\n",
              "  </tbody>\n",
              "</table>\n",
              "</div>"
            ],
            "text/plain": [
              "              count          mean           std     min       25%      50%  \\\n",
              "Unnamed: 0  54712.0  38925.687582  22553.956707     0.0  19414.75  38803.0   \n",
              "id          54712.0  45173.763397  25935.559039     0.0  22737.75  45248.0   \n",
              "age         54712.0     40.580147     10.544504    17.0     32.00     39.0   \n",
              "balance     31842.0   1368.024590   3057.847866 -8019.0     73.00    449.0   \n",
              "duration    54712.0    257.282260    255.270335     0.0    103.00    180.0   \n",
              "campaign    54712.0      2.679961      2.966822     1.0      1.00      2.0   \n",
              "pdays       54712.0    425.022829    476.813012    -1.0     -1.00     88.0   \n",
              "previous    54712.0      0.407351      1.520253     0.0      0.00      0.0   \n",
              "\n",
              "                 75%      max  \n",
              "Unnamed: 0  58491.25  78160.0  \n",
              "id          67581.25  89999.0  \n",
              "age            48.00     98.0  \n",
              "balance      1435.00  98417.0  \n",
              "duration      318.00   4199.0  \n",
              "campaign        3.00     58.0  \n",
              "pdays         999.00    999.0  \n",
              "previous        0.00     58.0  "
            ]
          },
          "execution_count": 5,
          "metadata": {},
          "output_type": "execute_result"
        }
      ],
      "source": [
        "Train_Data.describe().T"
      ]
    },
    {
      "cell_type": "code",
      "execution_count": 6,
      "metadata": {},
      "outputs": [
        {
          "data": {
            "text/html": [
              "<div>\n",
              "<style scoped>\n",
              "    .dataframe tbody tr th:only-of-type {\n",
              "        vertical-align: middle;\n",
              "    }\n",
              "\n",
              "    .dataframe tbody tr th {\n",
              "        vertical-align: top;\n",
              "    }\n",
              "\n",
              "    .dataframe thead th {\n",
              "        text-align: right;\n",
              "    }\n",
              "</style>\n",
              "<table border=\"1\" class=\"dataframe\">\n",
              "  <thead>\n",
              "    <tr style=\"text-align: right;\">\n",
              "      <th></th>\n",
              "      <th>count</th>\n",
              "      <th>unique</th>\n",
              "      <th>top</th>\n",
              "      <th>freq</th>\n",
              "    </tr>\n",
              "  </thead>\n",
              "  <tbody>\n",
              "    <tr>\n",
              "      <th>job</th>\n",
              "      <td>54712</td>\n",
              "      <td>12</td>\n",
              "      <td>blue-collar</td>\n",
              "      <td>12042</td>\n",
              "    </tr>\n",
              "    <tr>\n",
              "      <th>marital</th>\n",
              "      <td>54712</td>\n",
              "      <td>4</td>\n",
              "      <td>married</td>\n",
              "      <td>33095</td>\n",
              "    </tr>\n",
              "    <tr>\n",
              "      <th>education</th>\n",
              "      <td>54712</td>\n",
              "      <td>11</td>\n",
              "      <td>secondary</td>\n",
              "      <td>16357</td>\n",
              "    </tr>\n",
              "    <tr>\n",
              "      <th>default</th>\n",
              "      <td>54712</td>\n",
              "      <td>3</td>\n",
              "      <td>no</td>\n",
              "      <td>49368</td>\n",
              "    </tr>\n",
              "    <tr>\n",
              "      <th>housing</th>\n",
              "      <td>54712</td>\n",
              "      <td>3</td>\n",
              "      <td>yes</td>\n",
              "      <td>29666</td>\n",
              "    </tr>\n",
              "    <tr>\n",
              "      <th>loan</th>\n",
              "      <td>54712</td>\n",
              "      <td>3</td>\n",
              "      <td>no</td>\n",
              "      <td>45564</td>\n",
              "    </tr>\n",
              "    <tr>\n",
              "      <th>contact</th>\n",
              "      <td>54712</td>\n",
              "      <td>3</td>\n",
              "      <td>cellular</td>\n",
              "      <td>35134</td>\n",
              "    </tr>\n",
              "    <tr>\n",
              "      <th>day</th>\n",
              "      <td>54712</td>\n",
              "      <td>41</td>\n",
              "      <td>may</td>\n",
              "      <td>7636</td>\n",
              "    </tr>\n",
              "    <tr>\n",
              "      <th>month</th>\n",
              "      <td>54712</td>\n",
              "      <td>17</td>\n",
              "      <td>may</td>\n",
              "      <td>9651</td>\n",
              "    </tr>\n",
              "    <tr>\n",
              "      <th>poutcome</th>\n",
              "      <td>54712</td>\n",
              "      <td>5</td>\n",
              "      <td>unknown</td>\n",
              "      <td>26057</td>\n",
              "    </tr>\n",
              "    <tr>\n",
              "      <th>Target</th>\n",
              "      <td>54712</td>\n",
              "      <td>2</td>\n",
              "      <td>no</td>\n",
              "      <td>48433</td>\n",
              "    </tr>\n",
              "  </tbody>\n",
              "</table>\n",
              "</div>"
            ],
            "text/plain": [
              "           count unique          top   freq\n",
              "job        54712     12  blue-collar  12042\n",
              "marital    54712      4      married  33095\n",
              "education  54712     11    secondary  16357\n",
              "default    54712      3           no  49368\n",
              "housing    54712      3          yes  29666\n",
              "loan       54712      3           no  45564\n",
              "contact    54712      3     cellular  35134\n",
              "day        54712     41          may   7636\n",
              "month      54712     17          may   9651\n",
              "poutcome   54712      5      unknown  26057\n",
              "Target     54712      2           no  48433"
            ]
          },
          "execution_count": 6,
          "metadata": {},
          "output_type": "execute_result"
        }
      ],
      "source": [
        "Train_Data.describe(include=\"object\").T"
      ]
    },
    {
      "cell_type": "code",
      "execution_count": 7,
      "metadata": {},
      "outputs": [
        {
          "data": {
            "text/plain": [
              "array(['blue-collar', 'management', 'technician', 'self-employed',\n",
              "       'retired', 'admin.', 'unknown', 'student', 'services', 'housemaid',\n",
              "       'entrepreneur', 'unemployed'], dtype=object)"
            ]
          },
          "execution_count": 7,
          "metadata": {},
          "output_type": "execute_result"
        }
      ],
      "source": [
        "Train_Data['job'].unique()"
      ]
    },
    {
      "cell_type": "code",
      "execution_count": 8,
      "metadata": {},
      "outputs": [
        {
          "data": {
            "text/plain": [
              "array(['married', 'divorced', 'single', 'unknown'], dtype=object)"
            ]
          },
          "execution_count": 8,
          "metadata": {},
          "output_type": "execute_result"
        }
      ],
      "source": [
        "Train_Data['marital'].unique()"
      ]
    },
    {
      "cell_type": "code",
      "execution_count": 9,
      "metadata": {},
      "outputs": [
        {
          "data": {
            "text/plain": [
              "array(['basic.9y', 'tertiary', 'high.school', 'primary', 'unknown',\n",
              "       'basic.4y', 'university.degree', 'secondary',\n",
              "       'professional.course', 'basic.6y', 'illiterate'], dtype=object)"
            ]
          },
          "execution_count": 9,
          "metadata": {},
          "output_type": "execute_result"
        }
      ],
      "source": [
        "Train_Data['education'].unique()"
      ]
    },
    {
      "cell_type": "code",
      "execution_count": 10,
      "metadata": {},
      "outputs": [
        {
          "data": {
            "text/plain": [
              "array([47, 48, 38, 50, 54, 59, 39, 28, 67, 34, 23, 27, 49, 33, 32, 62, 45,\n",
              "       24, 52, 46, 57, 37, 40, 55, 30, 56, 31, 26, 58, 44, 53, 41, 42, 71,\n",
              "       25, 35, 43, 19, 29, 60, 36, 70, 51, 61, 22, 65, 20, 69, 75, 63, 64,\n",
              "       72, 66, 73, 76, 21, 78, 77, 74, 79, 81, 68, 84, 87, 80, 18, 82, 93,\n",
              "       86, 95, 85, 88, 83, 98, 17, 92, 91, 90, 89], dtype=int64)"
            ]
          },
          "execution_count": 10,
          "metadata": {},
          "output_type": "execute_result"
        }
      ],
      "source": [
        "Train_Data['age'].unique()"
      ]
    },
    {
      "cell_type": "code",
      "execution_count": 11,
      "metadata": {},
      "outputs": [
        {
          "data": {
            "text/plain": [
              "array([ 2,  3,  1,  5, 13,  4,  7, 18,  8, 10, 14, 12,  6, 55, 17,  9, 11,\n",
              "       15, 43, 20, 29, 16, 22, 19, 23, 32, 30, 21, 28, 25, 26, 41, 56, 27,\n",
              "       35, 24, 36, 38, 31, 44, 50, 40, 34, 33, 58, 51, 37], dtype=int64)"
            ]
          },
          "execution_count": 11,
          "metadata": {},
          "output_type": "execute_result"
        }
      ],
      "source": [
        "Train_Data['campaign'].unique()"
      ]
    },
    {
      "cell_type": "code",
      "execution_count": 12,
      "metadata": {},
      "outputs": [
        {
          "data": {
            "text/plain": [
              "array(['cellular', 'telephone', 'unknown'], dtype=object)"
            ]
          },
          "execution_count": 12,
          "metadata": {},
          "output_type": "execute_result"
        }
      ],
      "source": [
        "Train_Data['contact'].unique()"
      ]
    },
    {
      "cell_type": "code",
      "execution_count": 13,
      "metadata": {},
      "outputs": [
        {
          "data": {
            "text/plain": [
              "array(['apr', '7', 'aug', '4', '29', 'may', '21', '14', 'nov', 'sep',\n",
              "       'jul', 'mar', '15', '27', 'dec', '8', '28', '6', '22', '18', '12',\n",
              "       '20', '5', '17', '11', 'jun', '10', '9', '30', '13', '16', '25',\n",
              "       '2', '19', '26', '24', '23', '3', '1', '31', 'oct'], dtype=object)"
            ]
          },
          "execution_count": 13,
          "metadata": {},
          "output_type": "execute_result"
        }
      ],
      "source": [
        "Train_Data['day'].unique()"
      ]
    },
    {
      "cell_type": "code",
      "execution_count": 14,
      "metadata": {},
      "outputs": [
        {
          "data": {
            "text/plain": [
              "array(['no', 'yes', 'unknown'], dtype=object)"
            ]
          },
          "execution_count": 14,
          "metadata": {},
          "output_type": "execute_result"
        }
      ],
      "source": [
        "Train_Data['default'].unique()"
      ]
    },
    {
      "cell_type": "code",
      "execution_count": 15,
      "metadata": {},
      "outputs": [
        {
          "data": {
            "text/plain": [
              "array([ 583,  725,   74, ..., 1397, 1558, 1250], dtype=int64)"
            ]
          },
          "execution_count": 15,
          "metadata": {},
          "output_type": "execute_result"
        }
      ],
      "source": [
        "Train_Data['duration'].unique()"
      ]
    },
    {
      "cell_type": "code",
      "execution_count": 16,
      "metadata": {},
      "outputs": [
        {
          "data": {
            "text/plain": [
              "array(['no', 'yes', 'unknown'], dtype=object)"
            ]
          },
          "execution_count": 16,
          "metadata": {},
          "output_type": "execute_result"
        }
      ],
      "source": [
        "Train_Data['housing'].unique()"
      ]
    },
    {
      "cell_type": "code",
      "execution_count": 17,
      "metadata": {},
      "outputs": [
        {
          "data": {
            "text/plain": [
              "array(['yes', 'no', 'unknown'], dtype=object)"
            ]
          },
          "execution_count": 17,
          "metadata": {},
          "output_type": "execute_result"
        }
      ],
      "source": [
        "Train_Data['loan'].unique()"
      ]
    },
    {
      "cell_type": "code",
      "execution_count": 18,
      "metadata": {},
      "outputs": [
        {
          "data": {
            "text/plain": [
              "array([ 1,  0,  9,  7,  6,  4,  3,  2,  5,  8, 10, 14, 16, 27, 11, 23, 12,\n",
              "       15, 17, 13, 24, 19, 30, 20, 21, 18, 29, 25, 40, 28, 22, 37, 38, 51,\n",
              "       26, 35, 58, 41], dtype=int64)"
            ]
          },
          "execution_count": 18,
          "metadata": {},
          "output_type": "execute_result"
        }
      ],
      "source": [
        "\n",
        "Train_Data['previous'].unique()"
      ]
    },
    {
      "cell_type": "code",
      "execution_count": 19,
      "metadata": {},
      "outputs": [
        {
          "data": {
            "text/plain": [
              "array(['failure', 'unknown', 'nonexistent', 'success', 'other'],\n",
              "      dtype=object)"
            ]
          },
          "execution_count": 19,
          "metadata": {},
          "output_type": "execute_result"
        }
      ],
      "source": [
        "Train_Data['poutcome'].unique()"
      ]
    },
    {
      "cell_type": "code",
      "execution_count": 20,
      "metadata": {},
      "outputs": [
        {
          "data": {
            "text/plain": [
              "array(['fri', 'apr', 'wed', 'may', 'thu', 'jan', 'jul', 'sep', 'tue',\n",
              "       'mon', 'aug', 'nov', 'jun', 'oct', 'feb', 'mar', 'dec'],\n",
              "      dtype=object)"
            ]
          },
          "execution_count": 20,
          "metadata": {},
          "output_type": "execute_result"
        }
      ],
      "source": [
        "Train_Data['month'].unique()"
      ]
    },
    {
      "cell_type": "code",
      "execution_count": 21,
      "metadata": {},
      "outputs": [],
      "source": [
        "\n",
        "# Function to check and correct day and month values\n",
        "def check_and_correct_date(row):\n",
        "    valid_days = list(map(str, range(1, 32)))  # Assuming days range from 1 to 31\n",
        "    valid_months = ['jan', 'feb', 'mar', 'apr', 'may', 'jun', 'jul', 'aug', 'sep', 'oct', 'nov', 'dec']\n",
        "    if row['day'] not in valid_days or row['month'] not in valid_months:\n",
        "        # Incorrect day or month value found, swap them\n",
        "        row['day'], row['month'] = row['month'], row['day']\n",
        "    return row\n"
      ]
    },
    {
      "cell_type": "code",
      "execution_count": 22,
      "metadata": {},
      "outputs": [],
      "source": [
        "Train_Data = Train_Data.apply(check_and_correct_date, axis=1)\n"
      ]
    },
    {
      "cell_type": "code",
      "execution_count": 23,
      "metadata": {},
      "outputs": [
        {
          "data": {
            "text/plain": [
              "array(['apr', 'aug', 'may', 'jan', 'jul', 'sep', 'nov', 'mar', 'dec',\n",
              "       'jun', 'oct', 'feb'], dtype=object)"
            ]
          },
          "execution_count": 23,
          "metadata": {},
          "output_type": "execute_result"
        }
      ],
      "source": [
        "Train_Data['month'].unique()"
      ]
    },
    {
      "cell_type": "code",
      "execution_count": 24,
      "metadata": {},
      "outputs": [
        {
          "data": {
            "text/plain": [
              "array(['fri', '7', 'wed', '4', 'thu', '29', '21', '14', 'tue', 'mon',\n",
              "       '15', '27', '8', '28', '6', '22', '18', '12', '20', '5', '17',\n",
              "       '11', '10', '9', '30', '13', '16', '25', '2', '19', '26', '24',\n",
              "       '23', '3', '1', '31'], dtype=object)"
            ]
          },
          "execution_count": 24,
          "metadata": {},
          "output_type": "execute_result"
        }
      ],
      "source": [
        "Train_Data['day'].unique()"
      ]
    },
    {
      "cell_type": "code",
      "execution_count": 25,
      "metadata": {},
      "outputs": [],
      "source": [
        "Test_Data = Test_Data.apply(check_and_correct_date, axis=1)\n"
      ]
    },
    {
      "cell_type": "code",
      "execution_count": 26,
      "metadata": {},
      "outputs": [
        {
          "data": {
            "text/html": [
              "<div>\n",
              "<style scoped>\n",
              "    .dataframe tbody tr th:only-of-type {\n",
              "        vertical-align: middle;\n",
              "    }\n",
              "\n",
              "    .dataframe tbody tr th {\n",
              "        vertical-align: top;\n",
              "    }\n",
              "\n",
              "    .dataframe thead th {\n",
              "        text-align: right;\n",
              "    }\n",
              "</style>\n",
              "<table border=\"1\" class=\"dataframe\">\n",
              "  <thead>\n",
              "    <tr style=\"text-align: right;\">\n",
              "      <th></th>\n",
              "      <th>id</th>\n",
              "      <th>age</th>\n",
              "      <th>job</th>\n",
              "      <th>marital</th>\n",
              "      <th>education</th>\n",
              "      <th>default</th>\n",
              "      <th>balance</th>\n",
              "      <th>housing</th>\n",
              "      <th>loan</th>\n",
              "      <th>contact</th>\n",
              "      <th>day</th>\n",
              "      <th>month</th>\n",
              "      <th>duration</th>\n",
              "      <th>campaign</th>\n",
              "      <th>pdays</th>\n",
              "      <th>previous</th>\n",
              "      <th>poutcome</th>\n",
              "    </tr>\n",
              "  </thead>\n",
              "  <tbody>\n",
              "    <tr>\n",
              "      <th>0</th>\n",
              "      <td>74249</td>\n",
              "      <td>34</td>\n",
              "      <td>admin.</td>\n",
              "      <td>married</td>\n",
              "      <td>university.degree</td>\n",
              "      <td>no</td>\n",
              "      <td>NaN</td>\n",
              "      <td>no</td>\n",
              "      <td>no</td>\n",
              "      <td>cellular</td>\n",
              "      <td>wed</td>\n",
              "      <td>jul</td>\n",
              "      <td>266</td>\n",
              "      <td>1</td>\n",
              "      <td>999</td>\n",
              "      <td>0</td>\n",
              "      <td>nonexistent</td>\n",
              "    </tr>\n",
              "    <tr>\n",
              "      <th>1</th>\n",
              "      <td>35779</td>\n",
              "      <td>31</td>\n",
              "      <td>management</td>\n",
              "      <td>single</td>\n",
              "      <td>tertiary</td>\n",
              "      <td>no</td>\n",
              "      <td>165.0</td>\n",
              "      <td>no</td>\n",
              "      <td>yes</td>\n",
              "      <td>cellular</td>\n",
              "      <td>8</td>\n",
              "      <td>aug</td>\n",
              "      <td>523</td>\n",
              "      <td>2</td>\n",
              "      <td>-1</td>\n",
              "      <td>0</td>\n",
              "      <td>unknown</td>\n",
              "    </tr>\n",
              "    <tr>\n",
              "      <th>2</th>\n",
              "      <td>66769</td>\n",
              "      <td>28</td>\n",
              "      <td>blue-collar</td>\n",
              "      <td>single</td>\n",
              "      <td>basic.9y</td>\n",
              "      <td>no</td>\n",
              "      <td>NaN</td>\n",
              "      <td>no</td>\n",
              "      <td>no</td>\n",
              "      <td>telephone</td>\n",
              "      <td>fri</td>\n",
              "      <td>may</td>\n",
              "      <td>489</td>\n",
              "      <td>2</td>\n",
              "      <td>999</td>\n",
              "      <td>0</td>\n",
              "      <td>nonexistent</td>\n",
              "    </tr>\n",
              "    <tr>\n",
              "      <th>3</th>\n",
              "      <td>27888</td>\n",
              "      <td>57</td>\n",
              "      <td>admin.</td>\n",
              "      <td>divorced</td>\n",
              "      <td>secondary</td>\n",
              "      <td>no</td>\n",
              "      <td>1878.0</td>\n",
              "      <td>yes</td>\n",
              "      <td>no</td>\n",
              "      <td>cellular</td>\n",
              "      <td>17</td>\n",
              "      <td>nov</td>\n",
              "      <td>219</td>\n",
              "      <td>1</td>\n",
              "      <td>-1</td>\n",
              "      <td>0</td>\n",
              "      <td>unknown</td>\n",
              "    </tr>\n",
              "    <tr>\n",
              "      <th>4</th>\n",
              "      <td>63306</td>\n",
              "      <td>55</td>\n",
              "      <td>management</td>\n",
              "      <td>divorced</td>\n",
              "      <td>tertiary</td>\n",
              "      <td>no</td>\n",
              "      <td>277.0</td>\n",
              "      <td>no</td>\n",
              "      <td>no</td>\n",
              "      <td>cellular</td>\n",
              "      <td>12</td>\n",
              "      <td>aug</td>\n",
              "      <td>101</td>\n",
              "      <td>3</td>\n",
              "      <td>-1</td>\n",
              "      <td>0</td>\n",
              "      <td>unknown</td>\n",
              "    </tr>\n",
              "    <tr>\n",
              "      <th>...</th>\n",
              "      <td>...</td>\n",
              "      <td>...</td>\n",
              "      <td>...</td>\n",
              "      <td>...</td>\n",
              "      <td>...</td>\n",
              "      <td>...</td>\n",
              "      <td>...</td>\n",
              "      <td>...</td>\n",
              "      <td>...</td>\n",
              "      <td>...</td>\n",
              "      <td>...</td>\n",
              "      <td>...</td>\n",
              "      <td>...</td>\n",
              "      <td>...</td>\n",
              "      <td>...</td>\n",
              "      <td>...</td>\n",
              "      <td>...</td>\n",
              "    </tr>\n",
              "    <tr>\n",
              "      <th>23444</th>\n",
              "      <td>902</td>\n",
              "      <td>36</td>\n",
              "      <td>blue-collar</td>\n",
              "      <td>married</td>\n",
              "      <td>basic.6y</td>\n",
              "      <td>no</td>\n",
              "      <td>NaN</td>\n",
              "      <td>no</td>\n",
              "      <td>no</td>\n",
              "      <td>telephone</td>\n",
              "      <td>fri</td>\n",
              "      <td>may</td>\n",
              "      <td>203</td>\n",
              "      <td>5</td>\n",
              "      <td>999</td>\n",
              "      <td>0</td>\n",
              "      <td>nonexistent</td>\n",
              "    </tr>\n",
              "    <tr>\n",
              "      <th>23445</th>\n",
              "      <td>39745</td>\n",
              "      <td>44</td>\n",
              "      <td>services</td>\n",
              "      <td>married</td>\n",
              "      <td>secondary</td>\n",
              "      <td>no</td>\n",
              "      <td>133.0</td>\n",
              "      <td>no</td>\n",
              "      <td>no</td>\n",
              "      <td>cellular</td>\n",
              "      <td>29</td>\n",
              "      <td>jan</td>\n",
              "      <td>202</td>\n",
              "      <td>3</td>\n",
              "      <td>-1</td>\n",
              "      <td>0</td>\n",
              "      <td>unknown</td>\n",
              "    </tr>\n",
              "    <tr>\n",
              "      <th>23446</th>\n",
              "      <td>40150</td>\n",
              "      <td>31</td>\n",
              "      <td>blue-collar</td>\n",
              "      <td>married</td>\n",
              "      <td>basic.9y</td>\n",
              "      <td>no</td>\n",
              "      <td>NaN</td>\n",
              "      <td>yes</td>\n",
              "      <td>no</td>\n",
              "      <td>cellular</td>\n",
              "      <td>wed</td>\n",
              "      <td>jul</td>\n",
              "      <td>590</td>\n",
              "      <td>1</td>\n",
              "      <td>999</td>\n",
              "      <td>0</td>\n",
              "      <td>nonexistent</td>\n",
              "    </tr>\n",
              "    <tr>\n",
              "      <th>23447</th>\n",
              "      <td>6012</td>\n",
              "      <td>43</td>\n",
              "      <td>management</td>\n",
              "      <td>divorced</td>\n",
              "      <td>high.school</td>\n",
              "      <td>no</td>\n",
              "      <td>NaN</td>\n",
              "      <td>yes</td>\n",
              "      <td>no</td>\n",
              "      <td>cellular</td>\n",
              "      <td>mon</td>\n",
              "      <td>nov</td>\n",
              "      <td>488</td>\n",
              "      <td>2</td>\n",
              "      <td>999</td>\n",
              "      <td>0</td>\n",
              "      <td>nonexistent</td>\n",
              "    </tr>\n",
              "    <tr>\n",
              "      <th>23448</th>\n",
              "      <td>61584</td>\n",
              "      <td>29</td>\n",
              "      <td>services</td>\n",
              "      <td>single</td>\n",
              "      <td>high.school</td>\n",
              "      <td>no</td>\n",
              "      <td>NaN</td>\n",
              "      <td>yes</td>\n",
              "      <td>no</td>\n",
              "      <td>telephone</td>\n",
              "      <td>thu</td>\n",
              "      <td>may</td>\n",
              "      <td>93</td>\n",
              "      <td>1</td>\n",
              "      <td>999</td>\n",
              "      <td>0</td>\n",
              "      <td>nonexistent</td>\n",
              "    </tr>\n",
              "  </tbody>\n",
              "</table>\n",
              "<p>23449 rows × 17 columns</p>\n",
              "</div>"
            ],
            "text/plain": [
              "          id  age          job   marital          education default  balance  \\\n",
              "0      74249   34       admin.   married  university.degree      no      NaN   \n",
              "1      35779   31   management    single           tertiary      no    165.0   \n",
              "2      66769   28  blue-collar    single           basic.9y      no      NaN   \n",
              "3      27888   57       admin.  divorced          secondary      no   1878.0   \n",
              "4      63306   55   management  divorced           tertiary      no    277.0   \n",
              "...      ...  ...          ...       ...                ...     ...      ...   \n",
              "23444    902   36  blue-collar   married           basic.6y      no      NaN   \n",
              "23445  39745   44     services   married          secondary      no    133.0   \n",
              "23446  40150   31  blue-collar   married           basic.9y      no      NaN   \n",
              "23447   6012   43   management  divorced        high.school      no      NaN   \n",
              "23448  61584   29     services    single        high.school      no      NaN   \n",
              "\n",
              "      housing loan    contact  day month  duration  campaign  pdays  previous  \\\n",
              "0          no   no   cellular  wed   jul       266         1    999         0   \n",
              "1          no  yes   cellular    8   aug       523         2     -1         0   \n",
              "2          no   no  telephone  fri   may       489         2    999         0   \n",
              "3         yes   no   cellular   17   nov       219         1     -1         0   \n",
              "4          no   no   cellular   12   aug       101         3     -1         0   \n",
              "...       ...  ...        ...  ...   ...       ...       ...    ...       ...   \n",
              "23444      no   no  telephone  fri   may       203         5    999         0   \n",
              "23445      no   no   cellular   29   jan       202         3     -1         0   \n",
              "23446     yes   no   cellular  wed   jul       590         1    999         0   \n",
              "23447     yes   no   cellular  mon   nov       488         2    999         0   \n",
              "23448     yes   no  telephone  thu   may        93         1    999         0   \n",
              "\n",
              "          poutcome  \n",
              "0      nonexistent  \n",
              "1          unknown  \n",
              "2      nonexistent  \n",
              "3          unknown  \n",
              "4          unknown  \n",
              "...            ...  \n",
              "23444  nonexistent  \n",
              "23445      unknown  \n",
              "23446  nonexistent  \n",
              "23447  nonexistent  \n",
              "23448  nonexistent  \n",
              "\n",
              "[23449 rows x 17 columns]"
            ]
          },
          "execution_count": 26,
          "metadata": {},
          "output_type": "execute_result"
        }
      ],
      "source": [
        "Train_Data.drop(columns='balance',axis=1)\n",
        "Test_Data.drop(columns='balance',axis=1)\n",
        "Train_Data.drop(columns='id',axis=1)\n",
        "Train_Data.drop(columns='Unnamed: 0',axis=1)\n",
        "Test_Data.drop(columns='id',axis=1)\n",
        "Test_Data.drop(columns='Unnamed: 0',axis=1)"
      ]
    },
    {
      "cell_type": "code",
      "execution_count": 27,
      "metadata": {},
      "outputs": [
        {
          "data": {
            "text/html": [
              "<div>\n",
              "<style scoped>\n",
              "    .dataframe tbody tr th:only-of-type {\n",
              "        vertical-align: middle;\n",
              "    }\n",
              "\n",
              "    .dataframe tbody tr th {\n",
              "        vertical-align: top;\n",
              "    }\n",
              "\n",
              "    .dataframe thead th {\n",
              "        text-align: right;\n",
              "    }\n",
              "</style>\n",
              "<table border=\"1\" class=\"dataframe\">\n",
              "  <thead>\n",
              "    <tr style=\"text-align: right;\">\n",
              "      <th></th>\n",
              "      <th>Unnamed: 0</th>\n",
              "      <th>id</th>\n",
              "      <th>age</th>\n",
              "      <th>job</th>\n",
              "      <th>marital</th>\n",
              "      <th>education</th>\n",
              "      <th>default</th>\n",
              "      <th>balance</th>\n",
              "      <th>housing</th>\n",
              "      <th>loan</th>\n",
              "      <th>contact</th>\n",
              "      <th>day</th>\n",
              "      <th>month</th>\n",
              "      <th>duration</th>\n",
              "      <th>campaign</th>\n",
              "      <th>pdays</th>\n",
              "      <th>previous</th>\n",
              "      <th>poutcome</th>\n",
              "    </tr>\n",
              "  </thead>\n",
              "  <tbody>\n",
              "    <tr>\n",
              "      <th>0</th>\n",
              "      <td>45247</td>\n",
              "      <td>74249</td>\n",
              "      <td>34</td>\n",
              "      <td>admin.</td>\n",
              "      <td>married</td>\n",
              "      <td>university.degree</td>\n",
              "      <td>no</td>\n",
              "      <td>NaN</td>\n",
              "      <td>no</td>\n",
              "      <td>no</td>\n",
              "      <td>cellular</td>\n",
              "      <td>wed</td>\n",
              "      <td>jul</td>\n",
              "      <td>266</td>\n",
              "      <td>1</td>\n",
              "      <td>999</td>\n",
              "      <td>0</td>\n",
              "      <td>nonexistent</td>\n",
              "    </tr>\n",
              "    <tr>\n",
              "      <th>1</th>\n",
              "      <td>19894</td>\n",
              "      <td>35779</td>\n",
              "      <td>31</td>\n",
              "      <td>management</td>\n",
              "      <td>single</td>\n",
              "      <td>tertiary</td>\n",
              "      <td>no</td>\n",
              "      <td>165.0</td>\n",
              "      <td>no</td>\n",
              "      <td>yes</td>\n",
              "      <td>cellular</td>\n",
              "      <td>8</td>\n",
              "      <td>aug</td>\n",
              "      <td>523</td>\n",
              "      <td>2</td>\n",
              "      <td>-1</td>\n",
              "      <td>0</td>\n",
              "      <td>unknown</td>\n",
              "    </tr>\n",
              "    <tr>\n",
              "      <th>2</th>\n",
              "      <td>70048</td>\n",
              "      <td>66769</td>\n",
              "      <td>28</td>\n",
              "      <td>blue-collar</td>\n",
              "      <td>single</td>\n",
              "      <td>basic.9y</td>\n",
              "      <td>no</td>\n",
              "      <td>NaN</td>\n",
              "      <td>no</td>\n",
              "      <td>no</td>\n",
              "      <td>telephone</td>\n",
              "      <td>fri</td>\n",
              "      <td>may</td>\n",
              "      <td>489</td>\n",
              "      <td>2</td>\n",
              "      <td>999</td>\n",
              "      <td>0</td>\n",
              "      <td>nonexistent</td>\n",
              "    </tr>\n",
              "    <tr>\n",
              "      <th>3</th>\n",
              "      <td>24241</td>\n",
              "      <td>27888</td>\n",
              "      <td>57</td>\n",
              "      <td>admin.</td>\n",
              "      <td>divorced</td>\n",
              "      <td>secondary</td>\n",
              "      <td>no</td>\n",
              "      <td>1878.0</td>\n",
              "      <td>yes</td>\n",
              "      <td>no</td>\n",
              "      <td>cellular</td>\n",
              "      <td>17</td>\n",
              "      <td>nov</td>\n",
              "      <td>219</td>\n",
              "      <td>1</td>\n",
              "      <td>-1</td>\n",
              "      <td>0</td>\n",
              "      <td>unknown</td>\n",
              "    </tr>\n",
              "    <tr>\n",
              "      <th>4</th>\n",
              "      <td>20495</td>\n",
              "      <td>63306</td>\n",
              "      <td>55</td>\n",
              "      <td>management</td>\n",
              "      <td>divorced</td>\n",
              "      <td>tertiary</td>\n",
              "      <td>no</td>\n",
              "      <td>277.0</td>\n",
              "      <td>no</td>\n",
              "      <td>no</td>\n",
              "      <td>cellular</td>\n",
              "      <td>12</td>\n",
              "      <td>aug</td>\n",
              "      <td>101</td>\n",
              "      <td>3</td>\n",
              "      <td>-1</td>\n",
              "      <td>0</td>\n",
              "      <td>unknown</td>\n",
              "    </tr>\n",
              "  </tbody>\n",
              "</table>\n",
              "</div>"
            ],
            "text/plain": [
              "   Unnamed: 0     id  age          job   marital          education default  \\\n",
              "0       45247  74249   34       admin.   married  university.degree      no   \n",
              "1       19894  35779   31   management    single           tertiary      no   \n",
              "2       70048  66769   28  blue-collar    single           basic.9y      no   \n",
              "3       24241  27888   57       admin.  divorced          secondary      no   \n",
              "4       20495  63306   55   management  divorced           tertiary      no   \n",
              "\n",
              "   balance housing loan    contact  day month  duration  campaign  pdays  \\\n",
              "0      NaN      no   no   cellular  wed   jul       266         1    999   \n",
              "1    165.0      no  yes   cellular    8   aug       523         2     -1   \n",
              "2      NaN      no   no  telephone  fri   may       489         2    999   \n",
              "3   1878.0     yes   no   cellular   17   nov       219         1     -1   \n",
              "4    277.0      no   no   cellular   12   aug       101         3     -1   \n",
              "\n",
              "   previous     poutcome  \n",
              "0         0  nonexistent  \n",
              "1         0      unknown  \n",
              "2         0  nonexistent  \n",
              "3         0      unknown  \n",
              "4         0      unknown  "
            ]
          },
          "execution_count": 27,
          "metadata": {},
          "output_type": "execute_result"
        }
      ],
      "source": [
        "Test_Data.head()"
      ]
    },
    {
      "cell_type": "code",
      "execution_count": null,
      "metadata": {},
      "outputs": [],
      "source": []
    },
    {
      "cell_type": "code",
      "execution_count": null,
      "metadata": {},
      "outputs": [],
      "source": []
    }
  ],
  "metadata": {
    "colab": {
      "private_outputs": true,
      "provenance": []
    },
    "kernelspec": {
      "display_name": "Python 3",
      "name": "python3"
    },
    "language_info": {
      "codemirror_mode": {
        "name": "ipython",
        "version": 3
      },
      "file_extension": ".py",
      "mimetype": "text/x-python",
      "name": "python",
      "nbconvert_exporter": "python",
      "pygments_lexer": "ipython3",
      "version": "3.9.5"
    }
  },
  "nbformat": 4,
  "nbformat_minor": 0
}
