{
  "cells": [
    {
      "cell_type": "code",
      "execution_count": 23,
      "metadata": {
        "id": "6mX8pcbHVV4B"
      },
      "outputs": [],
      "source": [
        "import numpy as np\n",
        "import pandas as pd\n",
        "import seaborn as sns\n",
        "import matplotlib.pyplot as plt\n",
        "from sklearn.model_selection import train_test_split\n",
        "from sklearn.preprocessing import StandardScaler\n",
        "from sklearn.linear_model import LogisticRegression\n",
        "from sklearn.metrics import accuracy_score, classification_report, confusion_matrix\n",
        "from sklearn.model_selection import train_test_split\n",
        "from sklearn.tree import DecisionTreeClassifier\n",
        "from sklearn.svm import SVC\n",
        "from sklearn.neighbors import KNeighborsClassifier\n",
        "from sklearn.ensemble import GradientBoostingClassifier\n",
        "\n",
        "\n"
      ]
    },
    {
      "cell_type": "code",
      "execution_count": 24,
      "metadata": {
        "id": "LE_eo3FfbXV1"
      },
      "outputs": [],
      "source": [
        "Train_Data = pd.read_csv(\"Data\\Train-Set.csv\")\n",
        "Test_Data = pd.read_csv(\"Data\\Test-Set.csv\")"
      ]
    },
    {
      "cell_type": "code",
      "execution_count": 25,
      "metadata": {
        "id": "vnDJ7NPAc3o5"
      },
      "outputs": [
        {
          "name": "stdout",
          "output_type": "stream",
          "text": [
            "<class 'pandas.core.frame.DataFrame'>\n",
            "RangeIndex: 54712 entries, 0 to 54711\n",
            "Data columns (total 19 columns):\n",
            " #   Column      Non-Null Count  Dtype  \n",
            "---  ------      --------------  -----  \n",
            " 0   Unnamed: 0  54712 non-null  int64  \n",
            " 1   id          54712 non-null  int64  \n",
            " 2   age         54712 non-null  int64  \n",
            " 3   job         54712 non-null  object \n",
            " 4   marital     54712 non-null  object \n",
            " 5   education   54712 non-null  object \n",
            " 6   default     54712 non-null  object \n",
            " 7   balance     31842 non-null  float64\n",
            " 8   housing     54712 non-null  object \n",
            " 9   loan        54712 non-null  object \n",
            " 10  contact     54712 non-null  object \n",
            " 11  day         54712 non-null  object \n",
            " 12  month       54712 non-null  object \n",
            " 13  duration    54712 non-null  int64  \n",
            " 14  campaign    54712 non-null  int64  \n",
            " 15  pdays       54712 non-null  int64  \n",
            " 16  previous    54712 non-null  int64  \n",
            " 17  poutcome    54712 non-null  object \n",
            " 18  Target      54712 non-null  object \n",
            "dtypes: float64(1), int64(7), object(11)\n",
            "memory usage: 7.9+ MB\n"
          ]
        }
      ],
      "source": [
        "Train_Data.info()"
      ]
    },
    {
      "cell_type": "code",
      "execution_count": 26,
      "metadata": {
        "id": "ibQhZ0EWc-S_"
      },
      "outputs": [
        {
          "name": "stdout",
          "output_type": "stream",
          "text": [
            "<class 'pandas.core.frame.DataFrame'>\n",
            "RangeIndex: 23449 entries, 0 to 23448\n",
            "Data columns (total 18 columns):\n",
            " #   Column      Non-Null Count  Dtype  \n",
            "---  ------      --------------  -----  \n",
            " 0   Unnamed: 0  23449 non-null  int64  \n",
            " 1   id          23449 non-null  int64  \n",
            " 2   age         23449 non-null  int64  \n",
            " 3   job         23449 non-null  object \n",
            " 4   marital     23449 non-null  object \n",
            " 5   education   23449 non-null  object \n",
            " 6   default     23449 non-null  object \n",
            " 7   balance     13369 non-null  float64\n",
            " 8   housing     23449 non-null  object \n",
            " 9   loan        23449 non-null  object \n",
            " 10  contact     23449 non-null  object \n",
            " 11  day         23449 non-null  object \n",
            " 12  month       23449 non-null  object \n",
            " 13  duration    23449 non-null  int64  \n",
            " 14  campaign    23449 non-null  int64  \n",
            " 15  pdays       23449 non-null  int64  \n",
            " 16  previous    23449 non-null  int64  \n",
            " 17  poutcome    23449 non-null  object \n",
            "dtypes: float64(1), int64(7), object(10)\n",
            "memory usage: 3.2+ MB\n"
          ]
        }
      ],
      "source": [
        "Test_Data.info()"
      ]
    },
    {
      "cell_type": "code",
      "execution_count": 27,
      "metadata": {
        "id": "NC-ermsAdVbB"
      },
      "outputs": [
        {
          "data": {
            "text/plain": [
              "Unnamed: 0        0\n",
              "id                0\n",
              "age               0\n",
              "job               0\n",
              "marital           0\n",
              "education         0\n",
              "default           0\n",
              "balance       22870\n",
              "housing           0\n",
              "loan              0\n",
              "contact           0\n",
              "day               0\n",
              "month             0\n",
              "duration          0\n",
              "campaign          0\n",
              "pdays             0\n",
              "previous          0\n",
              "poutcome          0\n",
              "Target            0\n",
              "dtype: int64"
            ]
          },
          "execution_count": 27,
          "metadata": {},
          "output_type": "execute_result"
        }
      ],
      "source": [
        "Train_Data.isnull().sum()"
      ]
    },
    {
      "cell_type": "code",
      "execution_count": 28,
      "metadata": {
        "id": "aCbgS9ehdhEd"
      },
      "outputs": [
        {
          "data": {
            "text/plain": [
              "Index(['Unnamed: 0', 'id', 'age', 'job', 'marital', 'education', 'default',\n",
              "       'balance', 'housing', 'loan', 'contact', 'day', 'month', 'duration',\n",
              "       'campaign', 'pdays', 'previous', 'poutcome', 'Target'],\n",
              "      dtype='object')"
            ]
          },
          "execution_count": 28,
          "metadata": {},
          "output_type": "execute_result"
        }
      ],
      "source": [
        "Train_Data.columns"
      ]
    },
    {
      "cell_type": "code",
      "execution_count": 29,
      "metadata": {
        "id": "xfJnaubxelL1"
      },
      "outputs": [
        {
          "data": {
            "text/plain": [
              "Index(['Unnamed: 0', 'id', 'age', 'job', 'marital', 'education', 'default',\n",
              "       'balance', 'housing', 'loan', 'contact', 'day', 'month', 'duration',\n",
              "       'campaign', 'pdays', 'previous', 'poutcome'],\n",
              "      dtype='object')"
            ]
          },
          "execution_count": 29,
          "metadata": {},
          "output_type": "execute_result"
        }
      ],
      "source": [
        "Test_Data.columns"
      ]
    },
    {
      "cell_type": "code",
      "execution_count": 30,
      "metadata": {
        "id": "GMq3blgZepbn"
      },
      "outputs": [
        {
          "data": {
            "text/html": [
              "<div>\n",
              "<style scoped>\n",
              "    .dataframe tbody tr th:only-of-type {\n",
              "        vertical-align: middle;\n",
              "    }\n",
              "\n",
              "    .dataframe tbody tr th {\n",
              "        vertical-align: top;\n",
              "    }\n",
              "\n",
              "    .dataframe thead th {\n",
              "        text-align: right;\n",
              "    }\n",
              "</style>\n",
              "<table border=\"1\" class=\"dataframe\">\n",
              "  <thead>\n",
              "    <tr style=\"text-align: right;\">\n",
              "      <th></th>\n",
              "      <th>Unnamed: 0</th>\n",
              "      <th>id</th>\n",
              "      <th>age</th>\n",
              "      <th>balance</th>\n",
              "      <th>duration</th>\n",
              "      <th>campaign</th>\n",
              "      <th>pdays</th>\n",
              "      <th>previous</th>\n",
              "    </tr>\n",
              "  </thead>\n",
              "  <tbody>\n",
              "    <tr>\n",
              "      <th>count</th>\n",
              "      <td>54712.000000</td>\n",
              "      <td>54712.000000</td>\n",
              "      <td>54712.000000</td>\n",
              "      <td>31842.000000</td>\n",
              "      <td>54712.000000</td>\n",
              "      <td>54712.000000</td>\n",
              "      <td>54712.000000</td>\n",
              "      <td>54712.000000</td>\n",
              "    </tr>\n",
              "    <tr>\n",
              "      <th>mean</th>\n",
              "      <td>38925.687582</td>\n",
              "      <td>45173.763397</td>\n",
              "      <td>40.580147</td>\n",
              "      <td>1368.024590</td>\n",
              "      <td>257.282260</td>\n",
              "      <td>2.679961</td>\n",
              "      <td>425.022829</td>\n",
              "      <td>0.407351</td>\n",
              "    </tr>\n",
              "    <tr>\n",
              "      <th>std</th>\n",
              "      <td>22553.956707</td>\n",
              "      <td>25935.559039</td>\n",
              "      <td>10.544504</td>\n",
              "      <td>3057.847866</td>\n",
              "      <td>255.270335</td>\n",
              "      <td>2.966822</td>\n",
              "      <td>476.813012</td>\n",
              "      <td>1.520253</td>\n",
              "    </tr>\n",
              "    <tr>\n",
              "      <th>min</th>\n",
              "      <td>0.000000</td>\n",
              "      <td>0.000000</td>\n",
              "      <td>17.000000</td>\n",
              "      <td>-8019.000000</td>\n",
              "      <td>0.000000</td>\n",
              "      <td>1.000000</td>\n",
              "      <td>-1.000000</td>\n",
              "      <td>0.000000</td>\n",
              "    </tr>\n",
              "    <tr>\n",
              "      <th>25%</th>\n",
              "      <td>19414.750000</td>\n",
              "      <td>22737.750000</td>\n",
              "      <td>32.000000</td>\n",
              "      <td>73.000000</td>\n",
              "      <td>103.000000</td>\n",
              "      <td>1.000000</td>\n",
              "      <td>-1.000000</td>\n",
              "      <td>0.000000</td>\n",
              "    </tr>\n",
              "    <tr>\n",
              "      <th>50%</th>\n",
              "      <td>38803.000000</td>\n",
              "      <td>45248.000000</td>\n",
              "      <td>39.000000</td>\n",
              "      <td>449.000000</td>\n",
              "      <td>180.000000</td>\n",
              "      <td>2.000000</td>\n",
              "      <td>88.000000</td>\n",
              "      <td>0.000000</td>\n",
              "    </tr>\n",
              "    <tr>\n",
              "      <th>75%</th>\n",
              "      <td>58491.250000</td>\n",
              "      <td>67581.250000</td>\n",
              "      <td>48.000000</td>\n",
              "      <td>1435.000000</td>\n",
              "      <td>318.000000</td>\n",
              "      <td>3.000000</td>\n",
              "      <td>999.000000</td>\n",
              "      <td>0.000000</td>\n",
              "    </tr>\n",
              "    <tr>\n",
              "      <th>max</th>\n",
              "      <td>78160.000000</td>\n",
              "      <td>89999.000000</td>\n",
              "      <td>98.000000</td>\n",
              "      <td>98417.000000</td>\n",
              "      <td>4199.000000</td>\n",
              "      <td>58.000000</td>\n",
              "      <td>999.000000</td>\n",
              "      <td>58.000000</td>\n",
              "    </tr>\n",
              "  </tbody>\n",
              "</table>\n",
              "</div>"
            ],
            "text/plain": [
              "         Unnamed: 0            id           age       balance      duration  \\\n",
              "count  54712.000000  54712.000000  54712.000000  31842.000000  54712.000000   \n",
              "mean   38925.687582  45173.763397     40.580147   1368.024590    257.282260   \n",
              "std    22553.956707  25935.559039     10.544504   3057.847866    255.270335   \n",
              "min        0.000000      0.000000     17.000000  -8019.000000      0.000000   \n",
              "25%    19414.750000  22737.750000     32.000000     73.000000    103.000000   \n",
              "50%    38803.000000  45248.000000     39.000000    449.000000    180.000000   \n",
              "75%    58491.250000  67581.250000     48.000000   1435.000000    318.000000   \n",
              "max    78160.000000  89999.000000     98.000000  98417.000000   4199.000000   \n",
              "\n",
              "           campaign         pdays      previous  \n",
              "count  54712.000000  54712.000000  54712.000000  \n",
              "mean       2.679961    425.022829      0.407351  \n",
              "std        2.966822    476.813012      1.520253  \n",
              "min        1.000000     -1.000000      0.000000  \n",
              "25%        1.000000     -1.000000      0.000000  \n",
              "50%        2.000000     88.000000      0.000000  \n",
              "75%        3.000000    999.000000      0.000000  \n",
              "max       58.000000    999.000000     58.000000  "
            ]
          },
          "execution_count": 30,
          "metadata": {},
          "output_type": "execute_result"
        }
      ],
      "source": [
        "Train_Data.describe()"
      ]
    },
    {
      "cell_type": "code",
      "execution_count": 31,
      "metadata": {
        "id": "-7iqsUIuq3mT"
      },
      "outputs": [
        {
          "name": "stdout",
          "output_type": "stream",
          "text": [
            "<class 'pandas.core.frame.DataFrame'>\n",
            "RangeIndex: 54712 entries, 0 to 54711\n",
            "Data columns (total 19 columns):\n",
            " #   Column      Non-Null Count  Dtype  \n",
            "---  ------      --------------  -----  \n",
            " 0   Unnamed: 0  54712 non-null  int64  \n",
            " 1   id          54712 non-null  int64  \n",
            " 2   age         54712 non-null  int64  \n",
            " 3   job         54712 non-null  object \n",
            " 4   marital     54712 non-null  object \n",
            " 5   education   54712 non-null  object \n",
            " 6   default     54712 non-null  object \n",
            " 7   balance     31842 non-null  float64\n",
            " 8   housing     54712 non-null  object \n",
            " 9   loan        54712 non-null  object \n",
            " 10  contact     54712 non-null  object \n",
            " 11  day         54712 non-null  object \n",
            " 12  month       54712 non-null  object \n",
            " 13  duration    54712 non-null  int64  \n",
            " 14  campaign    54712 non-null  int64  \n",
            " 15  pdays       54712 non-null  int64  \n",
            " 16  previous    54712 non-null  int64  \n",
            " 17  poutcome    54712 non-null  object \n",
            " 18  Target      54712 non-null  object \n",
            "dtypes: float64(1), int64(7), object(11)\n",
            "memory usage: 7.9+ MB\n"
          ]
        }
      ],
      "source": [
        "Train_Data.info()"
      ]
    },
    {
      "cell_type": "code",
      "execution_count": 32,
      "metadata": {
        "id": "OYCtmRGqq7gX"
      },
      "outputs": [
        {
          "data": {
            "text/plain": [
              "Unnamed: 0        0\n",
              "id                0\n",
              "age               0\n",
              "job               0\n",
              "marital           0\n",
              "education         0\n",
              "default           0\n",
              "balance       10080\n",
              "housing           0\n",
              "loan              0\n",
              "contact           0\n",
              "day               0\n",
              "month             0\n",
              "duration          0\n",
              "campaign          0\n",
              "pdays             0\n",
              "previous          0\n",
              "poutcome          0\n",
              "dtype: int64"
            ]
          },
          "execution_count": 32,
          "metadata": {},
          "output_type": "execute_result"
        }
      ],
      "source": [
        "Test_Data.isnull().sum()"
      ]
    },
    {
      "cell_type": "code",
      "execution_count": 33,
      "metadata": {},
      "outputs": [],
      "source": [
        "Train_Data.drop('balance', axis=1, inplace=True)\n",
        "Test_Data.drop('balance', axis=1, inplace=True)"
      ]
    },
    {
      "cell_type": "code",
      "execution_count": 34,
      "metadata": {},
      "outputs": [],
      "source": [
        "Train_Data = pd.get_dummies(Train_Data, columns=['job', 'marital', 'education', 'default', 'housing', 'loan', 'contact','day', 'month', 'poutcome'], drop_first=True)\n",
        "Test_Data = pd.get_dummies(Test_Data, columns=['job', 'marital', 'education', 'default', 'housing', 'loan', 'contact','day', 'month', 'poutcome'], drop_first=True)\n"
      ]
    },
    {
      "cell_type": "code",
      "execution_count": 35,
      "metadata": {},
      "outputs": [],
      "source": [
        "X_train = Train_Data.drop('Target', axis=1)\n",
        "y_train = Train_Data['Target']"
      ]
    },
    {
      "cell_type": "code",
      "execution_count": 36,
      "metadata": {},
      "outputs": [],
      "source": [
        "X_train, X_val, y_train, y_val = train_test_split(X_train, y_train, test_size=0.2, random_state=42)"
      ]
    },
    {
      "cell_type": "code",
      "execution_count": 37,
      "metadata": {},
      "outputs": [],
      "source": [
        "gb_model = GradientBoostingClassifier(n_estimators=100, learning_rate=0.1, random_state=42)"
      ]
    },
    {
      "cell_type": "code",
      "execution_count": 38,
      "metadata": {},
      "outputs": [
        {
          "data": {
            "text/html": [
              "<style>#sk-container-id-3 {color: black;}#sk-container-id-3 pre{padding: 0;}#sk-container-id-3 div.sk-toggleable {background-color: white;}#sk-container-id-3 label.sk-toggleable__label {cursor: pointer;display: block;width: 100%;margin-bottom: 0;padding: 0.3em;box-sizing: border-box;text-align: center;}#sk-container-id-3 label.sk-toggleable__label-arrow:before {content: \"▸\";float: left;margin-right: 0.25em;color: #696969;}#sk-container-id-3 label.sk-toggleable__label-arrow:hover:before {color: black;}#sk-container-id-3 div.sk-estimator:hover label.sk-toggleable__label-arrow:before {color: black;}#sk-container-id-3 div.sk-toggleable__content {max-height: 0;max-width: 0;overflow: hidden;text-align: left;background-color: #f0f8ff;}#sk-container-id-3 div.sk-toggleable__content pre {margin: 0.2em;color: black;border-radius: 0.25em;background-color: #f0f8ff;}#sk-container-id-3 input.sk-toggleable__control:checked~div.sk-toggleable__content {max-height: 200px;max-width: 100%;overflow: auto;}#sk-container-id-3 input.sk-toggleable__control:checked~label.sk-toggleable__label-arrow:before {content: \"▾\";}#sk-container-id-3 div.sk-estimator input.sk-toggleable__control:checked~label.sk-toggleable__label {background-color: #d4ebff;}#sk-container-id-3 div.sk-label input.sk-toggleable__control:checked~label.sk-toggleable__label {background-color: #d4ebff;}#sk-container-id-3 input.sk-hidden--visually {border: 0;clip: rect(1px 1px 1px 1px);clip: rect(1px, 1px, 1px, 1px);height: 1px;margin: -1px;overflow: hidden;padding: 0;position: absolute;width: 1px;}#sk-container-id-3 div.sk-estimator {font-family: monospace;background-color: #f0f8ff;border: 1px dotted black;border-radius: 0.25em;box-sizing: border-box;margin-bottom: 0.5em;}#sk-container-id-3 div.sk-estimator:hover {background-color: #d4ebff;}#sk-container-id-3 div.sk-parallel-item::after {content: \"\";width: 100%;border-bottom: 1px solid gray;flex-grow: 1;}#sk-container-id-3 div.sk-label:hover label.sk-toggleable__label {background-color: #d4ebff;}#sk-container-id-3 div.sk-serial::before {content: \"\";position: absolute;border-left: 1px solid gray;box-sizing: border-box;top: 0;bottom: 0;left: 50%;z-index: 0;}#sk-container-id-3 div.sk-serial {display: flex;flex-direction: column;align-items: center;background-color: white;padding-right: 0.2em;padding-left: 0.2em;position: relative;}#sk-container-id-3 div.sk-item {position: relative;z-index: 1;}#sk-container-id-3 div.sk-parallel {display: flex;align-items: stretch;justify-content: center;background-color: white;position: relative;}#sk-container-id-3 div.sk-item::before, #sk-container-id-3 div.sk-parallel-item::before {content: \"\";position: absolute;border-left: 1px solid gray;box-sizing: border-box;top: 0;bottom: 0;left: 50%;z-index: -1;}#sk-container-id-3 div.sk-parallel-item {display: flex;flex-direction: column;z-index: 1;position: relative;background-color: white;}#sk-container-id-3 div.sk-parallel-item:first-child::after {align-self: flex-end;width: 50%;}#sk-container-id-3 div.sk-parallel-item:last-child::after {align-self: flex-start;width: 50%;}#sk-container-id-3 div.sk-parallel-item:only-child::after {width: 0;}#sk-container-id-3 div.sk-dashed-wrapped {border: 1px dashed gray;margin: 0 0.4em 0.5em 0.4em;box-sizing: border-box;padding-bottom: 0.4em;background-color: white;}#sk-container-id-3 div.sk-label label {font-family: monospace;font-weight: bold;display: inline-block;line-height: 1.2em;}#sk-container-id-3 div.sk-label-container {text-align: center;}#sk-container-id-3 div.sk-container {/* jupyter's `normalize.less` sets `[hidden] { display: none; }` but bootstrap.min.css set `[hidden] { display: none !important; }` so we also need the `!important` here to be able to override the default hidden behavior on the sphinx rendered scikit-learn.org. See: https://github.com/scikit-learn/scikit-learn/issues/21755 */display: inline-block !important;position: relative;}#sk-container-id-3 div.sk-text-repr-fallback {display: none;}</style><div id=\"sk-container-id-3\" class=\"sk-top-container\"><div class=\"sk-text-repr-fallback\"><pre>GradientBoostingClassifier(random_state=42)</pre><b>In a Jupyter environment, please rerun this cell to show the HTML representation or trust the notebook. <br />On GitHub, the HTML representation is unable to render, please try loading this page with nbviewer.org.</b></div><div class=\"sk-container\" hidden><div class=\"sk-item\"><div class=\"sk-estimator sk-toggleable\"><input class=\"sk-toggleable__control sk-hidden--visually\" id=\"sk-estimator-id-3\" type=\"checkbox\" checked><label for=\"sk-estimator-id-3\" class=\"sk-toggleable__label sk-toggleable__label-arrow\">GradientBoostingClassifier</label><div class=\"sk-toggleable__content\"><pre>GradientBoostingClassifier(random_state=42)</pre></div></div></div></div></div>"
            ],
            "text/plain": [
              "GradientBoostingClassifier(random_state=42)"
            ]
          },
          "execution_count": 38,
          "metadata": {},
          "output_type": "execute_result"
        }
      ],
      "source": [
        "gb_model.fit(X_train, y_train)"
      ]
    },
    {
      "cell_type": "code",
      "execution_count": 39,
      "metadata": {},
      "outputs": [],
      "source": [
        "y_val_pred = gb_model.predict(X_val)"
      ]
    },
    {
      "cell_type": "code",
      "execution_count": 40,
      "metadata": {},
      "outputs": [
        {
          "name": "stdout",
          "output_type": "stream",
          "text": [
            "Accuracy on validation data: 0.9107191812117336\n"
          ]
        }
      ],
      "source": [
        "accuracy = accuracy_score(y_val, y_val_pred)\n",
        "print(\"Accuracy on validation data:\", accuracy)"
      ]
    },
    {
      "cell_type": "code",
      "execution_count": null,
      "metadata": {},
      "outputs": [],
      "source": []
    }
  ],
  "metadata": {
    "colab": {
      "private_outputs": true,
      "provenance": []
    },
    "kernelspec": {
      "display_name": "Python 3",
      "name": "python3"
    },
    "language_info": {
      "codemirror_mode": {
        "name": "ipython",
        "version": 3
      },
      "file_extension": ".py",
      "mimetype": "text/x-python",
      "name": "python",
      "nbconvert_exporter": "python",
      "pygments_lexer": "ipython3",
      "version": "3.9.5"
    }
  },
  "nbformat": 4,
  "nbformat_minor": 0
}
